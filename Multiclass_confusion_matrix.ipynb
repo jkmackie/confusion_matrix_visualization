{
 "cells": [
  {
   "cell_type": "markdown",
   "metadata": {},
   "source": [
    "##  `Multiclass confusion matrix function`\n",
    "#### By Justin Mackie, jmackie at gmail dot com"
   ]
  },
  {
   "cell_type": "code",
   "execution_count": 1,
   "metadata": {},
   "outputs": [],
   "source": [
    "%matplotlib inline\n",
    "import numpy as np\n",
    "import pandas as pd\n",
    "import matplotlib.pyplot as plt\n",
    "from sklearn.metrics import confusion_matrix  #Required input to plot_confusion_matrix\n",
    "import seaborn as sns\n",
    "\n",
    "# Inspired by Shay Palachy's function:  https://gist.github.com/shaypal5/94c53d765083101efc0240d776a23823\n",
    "# Used Shay's effective Doctring format.\n",
    "def plot_confusion_matrix(confusion_matrix, class_names, figsize = (15,6), fontsize=16):\n",
    "    \"\"\"\n",
    "    Plots confusion matrix as a color-encoded Seaborn heatmap.  Zeroes are\n",
    "    colored white.  Normalized values that are zero when rounded to three\n",
    "    decimals, Ex. 0.000, will be colored white.  Get more decicmals by\n",
    "    updating fmt, for example to '0.4f', and updating get_text() value.\n",
    "    \n",
    "    Arguments\n",
    "    ---------\n",
    "    confusion_matrix: numpy.ndarray\n",
    "        The numpy.ndarray object sklearn.metrics.confusion_matrix. \n",
    "    class_names: list\n",
    "        List of class names in the order they index the confusion matrix.\n",
    "    figsize: tuple\n",
    "        A pair tuple.  The first value is figure width.  The second\n",
    "        value is figure height. Defaults to (15,6).\n",
    "    fontsize: int\n",
    "        Font size for axes labels. Defaults to 16.\n",
    "    \"\"\"        \n",
    "    #Instantiate Figure\n",
    "    fig, (ax1, ax2) = plt.subplots(nrows=1, ncols=2, figsize=figsize)\n",
    "    plt.subplots_adjust(wspace = 0.3)\n",
    "        \n",
    "    # ax1 - Normalized Confusion Matrix    \n",
    "    #Normalize by dividing (M X M) matrix by (M X 1) matrix.  (M X 1) is row totals.\n",
    "    conf_matrix_norm = confusion_matrix.astype('float') / confusion_matrix.sum(axis=1)[:,np.newaxis]\n",
    "    df_cm_norm = pd.DataFrame(conf_matrix_norm, index=class_names, columns=class_names)        \n",
    "    heatmap = sns.heatmap(df_cm_norm, ax=ax1, cmap='Blues', fmt='.3f', annot=True, annot_kws={\"size\": fontsize},\n",
    "              linewidths=2, linecolor='black', cbar=False)\n",
    "    \n",
    "    ax1.tick_params(axis='x', labelrotation=0, labelsize=fontsize, labelcolor='black')\n",
    "    ax1.tick_params(axis='y', labelrotation=0, labelsize=fontsize, labelcolor='black')\n",
    "    ax1.set_ylim(ax1.get_xlim()[0], ax1.get_xlim()[1])  #Fix messed up ylim\n",
    "    ax1.set_xlabel('PREDICTED CLASS', fontsize=fontsize, color='black')\n",
    "    ax1.set_ylabel('TRUE CLASS', fontsize=fontsize, color='black')\n",
    "    ax1.set_title('Confusion Matrix - Normalized', pad=15, fontsize=fontsize, color='black')\n",
    "    \n",
    "    # ax2 - Confusion Matrix - Class Counts\n",
    "    df_cm = pd.DataFrame(confusion_matrix, index=class_names, columns=class_names)    \n",
    "    heatmap = sns.heatmap(df_cm, ax=ax2, cmap='Blues', fmt='d', annot=True, annot_kws={\"size\": fontsize+4},\n",
    "              linewidths=2, linecolor='black', cbar=False)   \n",
    "    \n",
    "    ax2.tick_params(axis='x', labelrotation=0, labelsize=fontsize, labelcolor='black')\n",
    "    ax2.tick_params(axis='y', labelrotation=0, labelsize=fontsize, labelcolor='black')\n",
    "    ax2.set_ylim(ax1.get_xlim()[0], ax1.get_xlim()[1])\n",
    "    ax2.set_xlabel('PREDICTED CLASS', fontsize=fontsize, color='black')\n",
    "    ax2.set_ylabel('TRUE CLASS', fontsize=fontsize, color='black')\n",
    "    ax2.set_title('Confusion Matrix - Class Counts', pad=15, fontsize=fontsize, color='black')    \n",
    "  \n",
    "    for text in ax1.texts:\n",
    "        if text.get_text() == '0.000':\n",
    "            text.set_color(color='white')            \n",
    "    for text in ax2.texts:\n",
    "        if text.get_text() == '0':\n",
    "            text.set_color(color='white')"
   ]
  },
  {
   "cell_type": "markdown",
   "metadata": {},
   "source": [
    "#### Example data for confusion matrix"
   ]
  },
  {
   "cell_type": "code",
   "execution_count": 2,
   "metadata": {},
   "outputs": [],
   "source": [
    "#Make categorical dataframe of true categories vs predicted categories.\n",
    "categdf=pd.DataFrame({\n",
    "                 'y_true': [\"cat\", \"ant\", \"cat\", \"cat\", \"ant\", \"bird\"],\n",
    "                 'y_pred': [\"ant\", \"ant\", \"cat\", \"cat\", \"ant\", \"cat\"]\n",
    "                })\n",
    "categdf['correct'] = categdf['y_true']==categdf['y_pred']"
   ]
  },
  {
   "cell_type": "markdown",
   "metadata": {},
   "source": [
    "#### Does true class match predicted class?"
   ]
  },
  {
   "cell_type": "code",
   "execution_count": 3,
   "metadata": {},
   "outputs": [
    {
     "data": {
      "text/html": [
       "<style  type=\"text/css\" >\n",
       "    #T_03b32ff4_ccfd_11e9_8245_305a3a079a05row1_col2 {\n",
       "            background-color:  #c7fdb5;\n",
       "        }    #T_03b32ff4_ccfd_11e9_8245_305a3a079a05row2_col2 {\n",
       "            background-color:  #c7fdb5;\n",
       "        }    #T_03b32ff4_ccfd_11e9_8245_305a3a079a05row3_col2 {\n",
       "            background-color:  #c7fdb5;\n",
       "        }    #T_03b32ff4_ccfd_11e9_8245_305a3a079a05row4_col2 {\n",
       "            background-color:  #c7fdb5;\n",
       "        }</style><table id=\"T_03b32ff4_ccfd_11e9_8245_305a3a079a05\" ><thead>    <tr>        <th class=\"blank level0\" ></th>        <th class=\"col_heading level0 col0\" >y_true</th>        <th class=\"col_heading level0 col1\" >y_pred</th>        <th class=\"col_heading level0 col2\" >correct</th>    </tr></thead><tbody>\n",
       "                <tr>\n",
       "                        <th id=\"T_03b32ff4_ccfd_11e9_8245_305a3a079a05level0_row0\" class=\"row_heading level0 row0\" >0</th>\n",
       "                        <td id=\"T_03b32ff4_ccfd_11e9_8245_305a3a079a05row0_col0\" class=\"data row0 col0\" >cat</td>\n",
       "                        <td id=\"T_03b32ff4_ccfd_11e9_8245_305a3a079a05row0_col1\" class=\"data row0 col1\" >ant</td>\n",
       "                        <td id=\"T_03b32ff4_ccfd_11e9_8245_305a3a079a05row0_col2\" class=\"data row0 col2\" >False</td>\n",
       "            </tr>\n",
       "            <tr>\n",
       "                        <th id=\"T_03b32ff4_ccfd_11e9_8245_305a3a079a05level0_row1\" class=\"row_heading level0 row1\" >1</th>\n",
       "                        <td id=\"T_03b32ff4_ccfd_11e9_8245_305a3a079a05row1_col0\" class=\"data row1 col0\" >ant</td>\n",
       "                        <td id=\"T_03b32ff4_ccfd_11e9_8245_305a3a079a05row1_col1\" class=\"data row1 col1\" >ant</td>\n",
       "                        <td id=\"T_03b32ff4_ccfd_11e9_8245_305a3a079a05row1_col2\" class=\"data row1 col2\" >True</td>\n",
       "            </tr>\n",
       "            <tr>\n",
       "                        <th id=\"T_03b32ff4_ccfd_11e9_8245_305a3a079a05level0_row2\" class=\"row_heading level0 row2\" >2</th>\n",
       "                        <td id=\"T_03b32ff4_ccfd_11e9_8245_305a3a079a05row2_col0\" class=\"data row2 col0\" >cat</td>\n",
       "                        <td id=\"T_03b32ff4_ccfd_11e9_8245_305a3a079a05row2_col1\" class=\"data row2 col1\" >cat</td>\n",
       "                        <td id=\"T_03b32ff4_ccfd_11e9_8245_305a3a079a05row2_col2\" class=\"data row2 col2\" >True</td>\n",
       "            </tr>\n",
       "            <tr>\n",
       "                        <th id=\"T_03b32ff4_ccfd_11e9_8245_305a3a079a05level0_row3\" class=\"row_heading level0 row3\" >3</th>\n",
       "                        <td id=\"T_03b32ff4_ccfd_11e9_8245_305a3a079a05row3_col0\" class=\"data row3 col0\" >cat</td>\n",
       "                        <td id=\"T_03b32ff4_ccfd_11e9_8245_305a3a079a05row3_col1\" class=\"data row3 col1\" >cat</td>\n",
       "                        <td id=\"T_03b32ff4_ccfd_11e9_8245_305a3a079a05row3_col2\" class=\"data row3 col2\" >True</td>\n",
       "            </tr>\n",
       "            <tr>\n",
       "                        <th id=\"T_03b32ff4_ccfd_11e9_8245_305a3a079a05level0_row4\" class=\"row_heading level0 row4\" >4</th>\n",
       "                        <td id=\"T_03b32ff4_ccfd_11e9_8245_305a3a079a05row4_col0\" class=\"data row4 col0\" >ant</td>\n",
       "                        <td id=\"T_03b32ff4_ccfd_11e9_8245_305a3a079a05row4_col1\" class=\"data row4 col1\" >ant</td>\n",
       "                        <td id=\"T_03b32ff4_ccfd_11e9_8245_305a3a079a05row4_col2\" class=\"data row4 col2\" >True</td>\n",
       "            </tr>\n",
       "            <tr>\n",
       "                        <th id=\"T_03b32ff4_ccfd_11e9_8245_305a3a079a05level0_row5\" class=\"row_heading level0 row5\" >5</th>\n",
       "                        <td id=\"T_03b32ff4_ccfd_11e9_8245_305a3a079a05row5_col0\" class=\"data row5 col0\" >bird</td>\n",
       "                        <td id=\"T_03b32ff4_ccfd_11e9_8245_305a3a079a05row5_col1\" class=\"data row5 col1\" >cat</td>\n",
       "                        <td id=\"T_03b32ff4_ccfd_11e9_8245_305a3a079a05row5_col2\" class=\"data row5 col2\" >False</td>\n",
       "            </tr>\n",
       "    </tbody></table>"
      ],
      "text/plain": [
       "<pandas.io.formats.style.Styler at 0x29f0c86deb8>"
      ]
     },
     "metadata": {},
     "output_type": "display_data"
    }
   ],
   "source": [
    "display(categdf.style.highlight_max(color='#c7fdb5', subset=pd.IndexSlice[:, ['correct']], axis=0))"
   ]
  },
  {
   "cell_type": "markdown",
   "metadata": {},
   "source": [
    "### First, make sklearn confusion matrix of true vs predicted classes/categories:"
   ]
  },
  {
   "cell_type": "code",
   "execution_count": 4,
   "metadata": {},
   "outputs": [
    {
     "name": "stdout",
     "output_type": "stream",
     "text": [
      "\n",
      "*** Sklearn confusion_matrix below.  It is challenging to understand. ***\n",
      "\n",
      "[[2 0 0]\n",
      " [0 0 1]\n",
      " [1 0 2]]\n",
      "\n",
      "The confusion_matrix labels are: ['ant', 'bird', 'cat'] \n",
      "...But, how do we read it?\n"
     ]
    }
   ],
   "source": [
    "class_labels = [\"ant\", \"bird\", \"cat\"]\n",
    "cm=confusion_matrix(categdf['y_true'], categdf['y_pred'], labels=class_labels)\n",
    "\n",
    "print('\\n*** Sklearn confusion_matrix below.  It is challenging to understand. ***\\n')\n",
    "print(cm)\n",
    "print('\\nThe confusion_matrix labels are:', class_labels,  '\\n...But, how do we read it?')"
   ]
  },
  {
   "cell_type": "markdown",
   "metadata": {},
   "source": [
    "### Solution: Plot confusion matrix function"
   ]
  },
  {
   "cell_type": "code",
   "execution_count": 5,
   "metadata": {},
   "outputs": [
    {
     "name": "stdout",
     "output_type": "stream",
     "text": [
      "\n",
      "*** plot_confusion_matrix() function prints heatmaps with captions to improve readability! ***\n",
      "\n",
      "\n"
     ]
    },
    {
     "data": {
      "image/png": "[encoded data removed]",
      "text/plain": [
       "<Figure size 1080x432 with 2 Axes>"
      ]
     },
     "metadata": {
      "needs_background": "light"
     },
     "output_type": "display_data"
    }
   ],
   "source": [
    "#Visualize the confusion matrix using my function.  Both normalized and counts format.\n",
    "#Class pairs are repeated in this format -- for example: (bird, cat) and (cat, bird).\n",
    "#The redundant pair is ignored by hiding the zeroes with white text.\n",
    "\n",
    "print('\\n*** plot_confusion_matrix() function prints heatmaps with captions to improve readability! ***\\n\\n')\n",
    "plot_confusion_matrix(confusion_matrix=cm, class_names=class_labels, fontsize=20)"
   ]
  },
  {
   "cell_type": "markdown",
   "metadata": {},
   "source": [
    "* ##### Note:  The labels/class names in the sklearn matrix and the plot must be in the same order."
   ]
  },
  {
   "cell_type": "code",
   "execution_count": null,
   "metadata": {},
   "outputs": [],
   "source": []
  }
 ],
 "metadata": {
  "kernelspec": {
   "display_name": "Python 3",
   "language": "python",
   "name": "python3"
  },
  "language_info": {
   "codemirror_mode": {
    "name": "ipython",
    "version": 3
   },
   "file_extension": ".py",
   "mimetype": "text/x-python",
   "name": "python",
   "nbconvert_exporter": "python",
   "pygments_lexer": "ipython3",
   "version": "3.7.3"
  }
 },
 "nbformat": 4,
 "nbformat_minor": 2
}
